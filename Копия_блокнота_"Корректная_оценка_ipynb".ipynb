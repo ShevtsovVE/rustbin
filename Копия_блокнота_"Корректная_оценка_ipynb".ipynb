{
  "nbformat": 4,
  "nbformat_minor": 0,
  "metadata": {
    "colab": {
      "provenance": [],
      "include_colab_link": true
    },
    "kernelspec": {
      "name": "python3",
      "display_name": "Python 3"
    },
    "language_info": {
      "name": "python"
    }
  },
  "cells": [
    {
      "cell_type": "markdown",
      "metadata": {
        "id": "view-in-github",
        "colab_type": "text"
      },
      "source": [
        "<a href=\"https://colab.research.google.com/github/ShevtsovVE/rustbin/blob/main/%D0%9A%D0%BE%D0%BF%D0%B8%D1%8F_%D0%B1%D0%BB%D0%BE%D0%BA%D0%BD%D0%BE%D1%82%D0%B0_%22%D0%9A%D0%BE%D1%80%D1%80%D0%B5%D0%BA%D1%82%D0%BD%D0%B0%D1%8F_%D0%BE%D1%86%D0%B5%D0%BD%D0%BA%D0%B0_ipynb%22.ipynb\" target=\"_parent\"><img src=\"https://colab.research.google.com/assets/colab-badge.svg\" alt=\"Open In Colab\"/></a>"
      ]
    },
    {
      "cell_type": "markdown",
      "source": [
        "# Задача 1. Корректная оценка\n",
        "\n",
        "В этой задаче мы предлагаем Вам заполнить пропуски в коде, чтобы реализовать следующую схему обучения модели и проверки её качества. Заполните фрагменты приведённого ниже кода так, чтобы обучение отвечало следующим параметрам:\n",
        "\n",
        "* Размер тестовой выборки = 0.3 от всей выборки\n",
        "* Включите перемешивание\n",
        "* Установите значение random_state = 42"
      ],
      "metadata": {
        "id": "2pMTgqo5iCr5"
      }
    },
    {
      "cell_type": "code",
      "source": [
        "from sklearn.linear_model import LogisticRegression\n",
        "from sklearn.datasets import load_breast_cancer\n",
        "from sklearn.model_selection import #Впишите название функции для разбиения выборки на тренировочную и тестовую#\n",
        "from sklearn.#TODO: импортируйте StandardScaler из соответствующего модуля\n",
        "\n",
        "# Загрузка датасета\n",
        "X, y = load_breast_cancer(return_X_y=True)\n",
        "\n",
        "# Разбиение датасета на train и test\n",
        "X_train, x_test, y_train, y_test = #Впишите функцию с нужными параметрами. Не забывайте про random_state!#\n",
        "\n",
        "# Задание классификатора и его обучение\n",
        "clf = LogisticRegression()\n",
        "\n",
        "# Предобработка датасета при помощи StandardScaler\n",
        "sc = StandardScaler()\n",
        "X_train = sc.fit_transform(X_train)\n",
        "x_test = sc.transform(x_test)\n",
        "\n",
        "# Обучеение модели\n",
        "# TODO: вызовите функцию обучения модели на тренировочной выборке X_train с вектором ответов y_train\n",
        "clf.#WRITE HERE#\n",
        "\n",
        "# Оценка качества получившегося решения\n",
        "clf.score(x_test, y_test)"
      ],
      "metadata": {
        "id": "kOAQqbmDll0O"
      },
      "execution_count": null,
      "outputs": []
    },
    {
      "cell_type": "markdown",
      "source": [
        "В качестве ответа на это задание впишите получившуюся оценку качества до второго знака после запятой включительно (то есть, если ответ 0.6572343, впишите 0.65)."
      ],
      "metadata": {
        "id": "hgkEKSCOeyAx"
      }
    },
    {
      "cell_type": "code",
      "source": [],
      "metadata": {
        "id": "QQlXwsaResPV"
      },
      "execution_count": null,
      "outputs": []
    }
  ]
}